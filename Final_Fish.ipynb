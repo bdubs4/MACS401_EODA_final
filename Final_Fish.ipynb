{
 "cells": [
  {
   "cell_type": "code",
   "execution_count": null,
   "id": "8455ff1b-464d-4337-b5a3-188293eb6822",
   "metadata": {},
   "outputs": [],
   "source": [
    "###invasion maps"
   ]
  },
  {
   "cell_type": "code",
   "execution_count": null,
   "id": "7b70e565-8fde-4813-a242-7e478b895eb9",
   "metadata": {},
   "outputs": [],
   "source": [
    "#import necessary packages\n",
    "import numpy as np\n",
    "import matplotlib as mpl\n",
    "from matplotlib import pyplot as plt\n",
    "import pandas as pd\n",
    "np.__version__\n",
    "import geopandas as gpd\n",
    "import descartes\n",
    "from shapely.geometry import Point, Polygon\n",
    "from PIL import Image\n",
    "from mpl_toolkits.axes_grid1 import make_axes_locatable\n",
    "from adjustText import adjust_text \n",
   ]
  },
  {
   "cell_type": "code",
   "execution_count": null,
   "id": "a845bac1-d309-4f54-ae45-371bf18d0fa5",
   "metadata": {},
   "outputs": [],
   "source": [
    "#read in invasion metric .csv and sort\n",
    "metric = pd.read_csv(\"full_response.csv\")\n",
    "metric.sort_values('rel_invasive_richness',ascending=False)\n",
    "#read in location data for NEON sites and sort\n",
    "meta = pd.read_csv(\"NEON_Field_Site_Metadata_20220412.csv\")\n",
    "location_data = meta[[\"field_site_id\", \"field_latitude\", \"field_longitude\"]]\n",
    "location_data = location_data.rename(columns={\"field_site_id\":\"siteID\"})\n",
    "#combine invasion and location tables and condense to RIR function \n",
    "combo = location_data.merge(metric, how = 'inner')\n",
    "RIR = combo[[\"siteID\", \"field_latitude\", \"field_longitude\", \"rel_invasive_richness\", \"rel_inv_abund\"]]\n",
    "combo.head()"
   ]
  },
  {
   "cell_type": "code",
   "execution_count": null,
   "id": "5b44c771-b74b-4a77-bc4a-a7b839e435d2",
   "metadata": {},
   "outputs": [],
   "source": [
    "##map downloaded from census.gov, 2018 US nation 20m\n",
    "##makes plain map of the U.S\n",
    "US_map = gpd.read_file(\"cb_2018_us_nation_20m.shp\")\n",
    "#change CR from NAD83 to WGS84\n",
    "US_map = US_map.to_crs(epsg=4326)\n",
    "fig, ax = plt.subplots(figsize = (10, 100))\n",
    "US_map.plot(ax=ax)"
   ]
  },
  {
   "cell_type": "code",
   "execution_count": null,
   "id": "4232be7c-3b26-4f14-9c32-8bc21d59dab9",
   "metadata": {},
   "outputs": [],
   "source": [
    "#renaming some things \n",
    "df = RIR\n",
    "crs = {'init':'epsg:4326'} #sets data CRS to WGS84 (what NEON uses)\n",
    "geometry = [Point(xy) for xy in zip(RIR[\"field_longitude\"], RIR[\"field_latitude\"])] #makes lat and long a geometry point\n",
    "#geometry[:3]\n",
    "len(geometry) #28 points yay!"
   ]
  },
  {
   "cell_type": "code",
   "execution_count": null,
   "id": "391f3250-1d43-4b47-b0df-e741ff069621",
   "metadata": {},
   "outputs": [],
   "source": [
    "#create a geo dataframe with lat and long points and invasion data\n",
    "geo_df = gpd.GeoDataFrame(RIR, \n",
    "                          crs = crs, \n",
    "                          geometry = geometry)\n",
    "#make sure response variable is a numeric\n",
    "geo_df['rel_invasive_richness'] = pd.to_numeric(geo_df['rel_invasive_richness'])\n",
    "geo_df['rel_inv_abund'] = pd.to_numeric(geo_df['rel_inv_abund'])\n",
    "geo_df.head()"
   ]
  },
  {
   "cell_type": "code",
   "execution_count": null,
   "id": "1f323804-e1bc-479a-8ff9-ca250765f951",
   "metadata": {},
   "outputs": [],
   "source": [
    "#create a plot of US map overlaid w/ invasion\n",
    "fig, ax = plt.subplots(figsize = (11, 10))\n",
    "US_map.plot(ax = ax, color = \"grey\")\n",
    "plt.xlim(-180, -50)\n",
    "plt.xlabel(\"longitude\", fontsize = 10)\n",
    "plt.ylabel(\"latitude\", fontsize = 10)\n",
    "plt.title(\"Non-Native Fish Invasion Status of NEON sites\")\n",
    "geo_df[geo_df['rel_invasive_richness'] == float(0)].plot(ax=ax, markersize = 9, color = \"blue\", marker = \"o\", label = \"not invaded\")\n",
    "#invasion == 0 is for sites that are not invaded\n",
    "geo_df[geo_df['rel_invasive_richness'] > float(0)].plot(ax=ax, markersize = 9, color = \"red\", marker = \"o\", label = \"invaded\")\n",
    "plt.legend(prop={'size' : 10})\n",
    "#invasion > 0 is sites that are invaded \n",
    "\n",
    "#add text for invasion sites\n",
    "texts = []\n",
    "for x,y,label in zip(geo_df[\"field_longitude\"], geo_df[\"field_latitude\"], geo_df['siteID']):\n",
    "    texts.append(plt.text(x,y,label))\n",
    "##scatters text points for easier readability\n",
    "adjust_text(texts, only_move={'points':'y', 'texts': 'y'}, arrowprops=dict(arrowstyle=\"-\", color='black', lw=1))\n",
    "\n",
    "#save figure \n",
    "plt.savefig(\"invaded_notinvadedMAP.jpg\", dpi = 500)"
   ]
  },
  {
   "cell_type": "code",
   "execution_count": null,
   "id": "017a5db8-a22c-4223-b30a-5e1c1f403198",
   "metadata": {},
   "outputs": [],
   "source": [
    "##choropleth maps RELATIVE INVASIVE RICHNESS\n",
    "#create a map with invasion metrics overlaid\n",
    "#color is a spectrum from least to most invaded\n",
    "fig, ax = plt.subplots(figsize = (11,10))\n",
    "US_map.plot(ax = ax, color = \"grey\", edgecolor = \"black\", legend = True)\n",
    "plt.xlim(-180, -50)\n",
    "plt.ylim(15, 75)\n",
    "plt.xlabel(\"longitude\", fontsize = 15)\n",
    "plt.ylabel(\"latitude\", fontsize = 15)\n",
    "plt.title(\"Range of Non-Native Fish Invasion (Relative Invasive Richness) at NEON sites\")\n",
    "#add invasion sites on\n",
    "geo_df.plot(column = 'rel_invasive_richness', ax = ax, legend = True, legend_kwds = {'label': \"Relative Invasive Richness\", 'orientation': \"horizontal\"}, markersize = 10, cmap = \"Wistia\", marker = 'o')\n",
    "#add text invasion sites\n",
    "texts = []\n",
    "for x,y,label in zip(df[\"field_longitude\"], df[\"field_latitude\"], geo_df['siteID']):\n",
    "    texts.append(plt.text(x,y,label))\n",
    "##scatters points for easier readability\n",
    "adjust_text(texts, only_move={'points':'y', 'texts': 'y'}, arrowprops=dict(arrowstyle=\"-\", color='black', lw=1))\n",
    "\n",
    "#save figure\n",
    "plt.savefig(\invasion_spectrum_RIR.jpg\", dpi = 500)"
   ]
  },
  {
   "cell_type": "code",
   "execution_count": null,
   "id": "18652a83-a279-46e4-b576-9ca87dcac2a9",
   "metadata": {},
   "outputs": [],
   "source": [
    "##choropleth maps RELATIVE INVASIVE ABUNDANCE\n",
    "#create a map with invasion metrics overlaid\n",
    "#color is a spectrum from least to most invaded\n",
    "fig, ax = plt.subplots(figsize = (11,10))\n",
    "US_map.plot(ax = ax, color = \"grey\", edgecolor = \"black\", legend = True)\n",
    "plt.xlim(-180, -50)\n",
    "plt.ylim(15, 75)\n",
    "plt.xlabel(\"longitude\", fontsize = 15)\n",
    "plt.ylabel(\"latitude\", fontsize = 15)\n",
    "plt.title(\"Range of Non-Native Fish Invasion (Relative Invasive Abundance) at NEON sites\")\n",
    "#add invasion sites on\n",
    "geo_df.plot(column = 'rel_inv_abund', ax = ax, legend = True, legend_kwds = {'label': \"Relative Invasive Abundance\", 'orientation': \"horizontal\"}, markersize = 10, cmap = \"cool\", marker = 'o')\n",
    "#add text invasion sites\n",
    "texts = []\n",
    "for x,y,label in zip(df[\"field_longitude\"], df[\"field_latitude\"], geo_df['siteID']):\n",
    "   # ax.annotate(label, \n",
    "                #xy = (x,y), xytext=(3, 3), textcoords=\"offset points\")\n",
    "    texts.append(plt.text(x,y,label))\n",
    "##scatters points for easier readability\n",
    "adjust_text(texts, only_move={'points':'y', 'texts': 'y'}, arrowprops=dict(arrowstyle=\"-\", color='black', lw=1))\n",
    "\n",
    "#save figure\n",
    "plt.savefig(\"invasion_spectrum_RIA.jpg\", dpi = 500)"
   ]
  },
  {
   "cell_type": "code",
   "execution_count": null,
   "id": "7eb6e83b-0609-4d4c-93a2-afc9978b6294",
   "metadata": {},
   "outputs": [],
   "source": [
    "##Nitrate Analysis"
   ]
  },
  {
   "cell_type": "code",
   "execution_count": null,
   "id": "c9c27a3a-6432-4e3b-9687-bb9bff4fded7",
   "metadata": {},
   "outputs": [],
   "source": [
    "#import packages\n",
    "import numpy as np\n",
    "import matplotlib as mpl\n",
    "from matplotlib import pyplot as plt\n",
    "import pandas as pd\n",
    "from scipy.stats import spearmanr"
   ]
  },
  {
   "cell_type": "code",
   "execution_count": null,
   "id": "a2fa5b1e-2e78-4ed0-bd18-be0fa85d09bb",
   "metadata": {},
   "outputs": [],
   "source": [
    "#read in and process nitrate data\n",
    "nitrate = pd.read_csv(\"nitrate_averages.csv\")\n",
    "nitrate.sort_values('year',ascending=False)\n",
    "nitrate.head\n",
    "nitrate_1 = nitrate[['siteID', 'siteMean']]\n",
    "nitrate_1.head\n",
    "nitrate_2 = nitrate_1.drop_duplicates()"
   ]
  },
  {
   "cell_type": "code",
   "execution_count": null,
   "id": "96f19de9-33f1-4178-8460-b1fb7b1770b4",
   "metadata": {},
   "outputs": [],
   "source": [
    "nitrate_3 = nitrate_2.dropna() ##this drops one NA (LEWI)"
   ]
  },
  {
   "cell_type": "code",
   "execution_count": null,
   "id": "67a3b2d7-8ac8-46e5-bee6-7ff420fb2306",
   "metadata": {},
   "outputs": [],
   "source": [
    "#read in invasion data\n",
    "invasion = pd.read_csv(\"full_response.csv\")\n",
    "invasion = invasion[[\"siteID\", \"rel_invasive_richness\", \"rel_inv_abund\"]]\n",
    "#combine nitrate and invasion data\n",
    "combo = invasion.merge(nitrate_3, how = 'inner')\n",
    "combo_1 = combo[[\"siteID\", \"siteMean\", \"rel_inv_abund\", \"rel_invasive_richness\"]]\n",
    "combo_1 = combo_1.loc[combo_1['rel_inv_abund'] > 0] #makes sites that are only invaded\n",
    "combo_1 = combo_1.loc[combo_1['rel_invasive_richness'] > 0] #makes sites that are only invaded\n",
    "combo_1.drop_duplicates() #condenses"
   ]
  },
  {
   "cell_type": "code",
   "execution_count": null,
   "id": "fe9ee326-ea08-4d03-b524-53a9ea47323b",
   "metadata": {},
   "outputs": [],
   "source": [
    "#compute spearman's correlation coefficient for nitrate vs relative invasive abundance\n",
    "RIA_rho, RIA_p = spearmanr(combo_1['siteMean'], combo_1['rel_inv_abund'])\n",
    "print(RIA_rho)\n",
    "print(RIA_p)"
   ]
  },
  {
   "cell_type": "code",
   "execution_count": null,
   "id": "d591358e-7433-4b3c-94a6-dca0a34482d4",
   "metadata": {},
   "outputs": [],
   "source": [
    "#compute spearman's correlation coefficient for nitrate vs relative invasive richness\n",
    "RIR_rho, RIR_p = spearmanr(combo_1['siteMean'], combo_1['rel_invasive_richness'])\n",
    "print(RIR_rho)\n",
    "print(RIR_p)"
   ]
  },
  {
   "cell_type": "code",
   "execution_count": null,
   "id": "ae4412ba-0f33-4c1e-8fc7-b7f20e5aa39e",
   "metadata": {},
   "outputs": [],
   "source": [
    "#create two plots side by side with nitrate means vs invasion with Spearman's corr written on top\n",
    "fig, axes = plt.subplots(figsize = (12,4), ncols = 2)\n",
    "ax0, ax1 = axes\n",
    "\n",
    "ax0.set_title(\"Water nitrate concentrations vs invasion (abundance)\", fontsize = 12)\n",
    "ax1.set_title(\"Water nitrate concentrations vs invasion (richness)\", fontsize = 12)\n",
    "ax0.scatter(combo_1['siteMean'], combo_1['rel_inv_abund'], color = \"blue\")\n",
    "ax0.set_xlabel(\"mean nitrate concentrations\")\n",
    "ax0.set_ylabel(\"relative invasive abudance\")\n",
    "ax1.scatter(combo_1['siteMean'], combo_1['rel_invasive_richness'], color = \"red\")\n",
    "ax1.set_xlabel(\"mean nitrate concentrations\")\n",
    "ax1.set_ylabel(\"relative invasive richness\")\n",
    "ax0.annotate(\"Spearman rho = \" + str(RIA_rho), xy = (5,80), xytext = (5,80))\n",
    "ax0.annotate(\"p = \" + str(RIA_p), xy = (5,70), xytext = (5,70))\n",
    "ax1.annotate(\"Spearman rho = \" + str(RIR_rho), xy = (5,0.8), xytext = (5,0.8))\n",
    "ax1.annotate(\"p = \" + str(RIR_p), xy = (5,0.7), xytext = (5,0.7))\n",
    "\n",
    "#save figure \n",
    "plt.savefig(\"nitrate.jpg\", dpi = 500)"
   ]
  },
  {
   "cell_type": "code",
   "execution_count": null,
   "id": "ed1ad2f7-4163-46bf-bbda-86d1f74e534c",
   "metadata": {},
   "outputs": [],
   "source": [
    "###for loop to create length plots"
   ]
  },
  {
   "cell_type": "code",
   "execution_count": null,
   "id": "06ffb6d2-900d-42bc-b39c-e76c4fe393ba",
   "metadata": {},
   "outputs": [],
   "source": [
    "#import necessary packages\n",
    "import pandas as pd\n",
    "import matplotlib as mpl\n",
    "from matplotlib import pyplot as plt\n",
    "import numpy as np"
   ]
  },
  {
   "cell_type": "code",
   "execution_count": null,
   "id": "a0c01abe-1789-4702-bebc-f075de0ad327",
   "metadata": {},
   "outputs": [],
   "source": [
    "#read in observation data of length at each site\n",
    "big = pd.read_csv(\"actinopterygii_fsh_perFish_sizeOutlierRemoved_anguillaRostrataRemoved_07-26-2022.csv\", \n",
    "                  usecols=['siteTax','siteID', 'scientificName', 'fishTotalLength', 'fishWeight', 'nativeStatusCode'])\n",
    "#reclassify STATE, FEDERAL, and F native status as NATIVE (invasive classification nuance)\n",
    "big[['nativeStatusCode']] = big [['nativeStatusCode']].replace(to_replace = \"FEDERAL\", value = \"N\")\n",
    "big[['nativeStatusCode']] = big [['nativeStatusCode']].replace(to_replace = \"STATE\", value = \"N\")\n",
    "big[['nativeStatusCode']] = big [['nativeStatusCode']].replace(to_replace = \"F\", value = \"N\")\n",
    "#convert mm length to cm\n",
    "big['fishTotalLength_cm'] = (big['fishTotalLength'] / int(10))\n",
    "#create a final df w/ taxon, siteID, observed lengths, and invasion status\n",
    "big_2 = big[['siteTax', 'siteID', 'scientificName', 'fishTotalLength_cm', 'nativeStatusCode']]"
   ]
  },
  {
   "cell_type": "code",
   "execution_count": null,
   "id": "161b0703-082b-4013-be10-b9025631ed58",
   "metadata": {},
   "outputs": [],
   "source": [
    "#Read in fish Traits database w/ max total length reported for each species, pandas to sort through\n",
    "fishbase = pd.read_csv(\"Narrowed_Augmented_Traits.csv\", \n",
    "                      usecols = ['GENUS', 'SPECIES', 'MAXTL'])\n",
    "fishbase[\"scientificName\"] = fishbase[\"GENUS\"] + \" \" + fishbase[\"SPECIES\"]\n",
    "fishbase_2 = fishbase[[\"MAXTL\", \"scientificName\"]]"
   ]
  },
  {
   "cell_type": "code",
   "execution_count": null,
   "id": "8e4624be-5e23-4327-ab1b-a327b6dab7e6",
   "metadata": {},
   "outputs": [],
   "source": [
    "#combine observed traits and expected max by scientific Name\n",
    "merge_length = pd.merge(big_2, fishbase_2, on = \"scientificName\")\n",
    "merge_length.head()"
   ]
  },
  {
   "cell_type": "code",
   "execution_count": null,
   "id": "5891092a-b41a-4474-acd0-c8591eb87132",
   "metadata": {},
   "outputs": [],
   "source": [
    "#getting ready to for loop through sites and create plots\n",
    "siteID = merge_length[\"siteID\"].unique() #array of unique siteID to use in for loop \n",
    "print(siteID[0])"
   ]
  },
  {
   "cell_type": "code",
   "execution_count": null,
   "id": "5215ea1e-8efb-42a7-8080-4d143f5212c8",
   "metadata": {},
   "outputs": [],
   "source": [
    "#create and save plots for each site (28)\n",
    "for site in siteID:\n",
    "    #set up temp df\n",
    "    temp_site = merge_length[merge_length[\"siteID\"] == site] \n",
    "    \n",
    "    #define a plot\n",
    "    fig, ax1 = plt.subplots()\n",
    "    \n",
    "    #query temp df to get min and max and use that to set matching y-axes labels\n",
    "    obs_min = temp_site['fishTotalLength_cm'].min()\n",
    "    obs_max = temp_site['fishTotalLength_cm'].max()\n",
    "    fb_min = temp_site['MAXTL'].min()\n",
    "    fb_max = temp_site['MAXTL'].max()\n",
    "    minimalist = min(obs_min, fb_min)-5\n",
    "    maximalist = max(obs_max, fb_max)+5\n",
    "    \n",
    "    #rotate x-axis labels\n",
    "    plt.xticks(rotation = 90)\n",
    "    \n",
    "    #set observed length data\n",
    "    ax1.set_xlabel('Species')\n",
    "    ax1.set_ylabel('Observed lengths (cm)', color = \"blue\")\n",
    "    ax1.scatter(temp_site['scientificName'], temp_site['fishTotalLength_cm'], color = \"blue\")\n",
    "    ax1.set_ylim(minimalist,maximalist)\n",
    "    \n",
    "    #twins second axis onto same plot (fishtraits data)\n",
    "    ax2 = ax1.twinx()\n",
    "\n",
    "    ax2.set_ylabel('Max Total Length (cm) (FishTraits)', color = \"red\")\n",
    "    ax2.scatter(temp_site['scientificName'], temp_site['MAXTL'], color = \"red\")\n",
    "    ax2.set_ylim(minimalist, maximalist)\n",
    "    \n",
    "    #use site name as graph title\n",
    "    plt.title(site)\n",
    "    #save out figure to folder\n",
    "    plt.savefig(\site + \".jpg\", dpi = 200, bbox_inches = 'tight')\n",
    "    \n",
    "    #clear plot so that it doesn't bog down jupyter lab with lots of images\n",
    "    plt.clf()\n",
    "    #ensures axes titles aren't cut off in the final saved plot\n",
    "    plt.tight_layout()"
   ]
  }
 ],
 "metadata": {
  "kernelspec": {
   "display_name": "Python 3 (ipykernel)",
   "language": "python",
   "name": "python3"
  },
  "language_info": {
   "codemirror_mode": {
    "name": "ipython",
    "version": 3
   },
   "file_extension": ".py",
   "mimetype": "text/x-python",
   "name": "python",
   "nbconvert_exporter": "python",
   "pygments_lexer": "ipython3",
   "version": "3.9.13"
  }
 },
 "nbformat": 4,
 "nbformat_minor": 5
}
